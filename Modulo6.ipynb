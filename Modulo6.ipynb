{
 "cells": [
  {
   "cell_type": "markdown",
   "metadata": {},
   "source": [
    "En primer lugar, crea una variable denominada planets. Agrega los ocho planetas (sin Plutón) a la lista. A continuación, muestra el número de planetas"
   ]
  },
  {
   "cell_type": "code",
   "execution_count": 2,
   "metadata": {},
   "outputs": [
    {
     "name": "stdout",
     "output_type": "stream",
     "text": [
      "Pluton este es el ultimo planeta\n"
     ]
    }
   ],
   "source": [
    "planetas = [\"Venus\", \"Tierra\", \"Mercurio\", \"Marte\", \"Juipiter\"]\n",
    "\n",
    "planetas.append('Pluton')\n",
    "\n",
    "print(planetas[-1], 'este es el ultimo planeta')"
   ]
  },
  {
   "cell_type": "markdown",
   "metadata": {},
   "source": [
    "Ejercicio 2: Trabajando con datos de una lista\n",
    "Usar slices para recuperar partes de una lista\n",
    "Es posible que debas trabajar con diferentes secciones de una lista. En nuestro ejemplo, queremos mostrar planetas más cerca y más lejos del sol de un planeta que el usuario ingresa por teclado.\n",
    "\n"
   ]
  },
  {
   "cell_type": "code",
   "execution_count": 4,
   "metadata": {},
   "outputs": [
    {
     "name": "stdout",
     "output_type": "stream",
     "text": [
      "el planeta mas cerca es Mercurio\n",
      "['Venus', ' Tierra', 'MArte', 'Jupiter', 'Saturno', 'Neptuno']\n"
     ]
    }
   ],
   "source": [
    "planetas = [\"Mercurio\", \"Venus\", \" Tierra\", \"MArte\", \"Jupiter\",\"Saturno\", \"Neptuno\"]\n",
    "\n",
    "nombre = input(\"Por favor escirba el nombre de un planeta (1 letra en Mayuscula)\")\n",
    "\n",
    "indexk = planetas.index(nombre)\n",
    "\n",
    "#planetas mas cxercanos al sol\n",
    "\n",
    "print(\"el planeta mas cerca es \" + nombre)\n",
    "print(planetas[indexk + 1:])"
   ]
  }
 ],
 "metadata": {
  "interpreter": {
   "hash": "c026e9a3f0ac8bebe71c0f85bc0f49ea2b89705ca9128adc1c4339a74b1af46b"
  },
  "kernelspec": {
   "display_name": "Python 3.9.10 64-bit (windows store)",
   "language": "python",
   "name": "python3"
  },
  "language_info": {
   "codemirror_mode": {
    "name": "ipython",
    "version": 3
   },
   "file_extension": ".py",
   "mimetype": "text/x-python",
   "name": "python",
   "nbconvert_exporter": "python",
   "pygments_lexer": "ipython3",
   "version": "3.9.10"
  },
  "orig_nbformat": 4
 },
 "nbformat": 4,
 "nbformat_minor": 2
}
