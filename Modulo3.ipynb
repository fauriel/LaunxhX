{
 "cells": [
  {
   "cell_type": "markdown",
   "metadata": {},
   "source": [
    "### Añadir el código necesario para crear una variable que guarde la velocidad del asteroide.\n",
    "### Escribe una expresión de prueba para calcular si necesita una advertencia.\n",
    "### Agregue las instrucciones que se ejecutarán si la expresión de prueba es true o false."
   ]
  },
  {
   "cell_type": "markdown",
   "metadata": {},
   "source": [
    "Escribe la lógica condicional que usa declaraciones if, else, y elif para alertar a las personas de todo el mundo que deben buscar un asteroide en el cielo. ¡Hay uno que se dirige a la tierra ahora a una velocidad de 19 km/s!"
   ]
  },
  {
   "cell_type": "code",
   "execution_count": 3,
   "metadata": {},
   "outputs": [
    {
     "name": "stdout",
     "output_type": "stream",
     "text": [
      "Cuidado se acerca un asteroide rapidamente\n"
     ]
    }
   ],
   "source": [
    "a = 49\n",
    "if a > 25:\n",
    "    print('Cuidado se acerca un asteroide rapidamente')\n",
    "else:\n",
    "    print('Todo bien wuapo')"
   ]
  },
  {
   "cell_type": "markdown",
   "metadata": {},
   "source": [
    "Si un asteroide entra en la atmósfera de la Tierra a una velocidad mayor o igual a 20 km/s, a veces produce un rayo de luz que se puede ver desde la Tierr"
   ]
  },
  {
   "cell_type": "code",
   "execution_count": 5,
   "metadata": {},
   "outputs": [
    {
     "name": "stdout",
     "output_type": "stream",
     "text": [
      "Hay una luz en la tierra\n"
     ]
    }
   ],
   "source": [
    "a = 30\n",
    "if a > 20:\n",
    "    print(\"Hay una luz en la tierra\")\n",
    "elif a== 20:\n",
    "    print(\"Hay una luz en la tierra\")\n",
    "else:\n",
    "    print(\"Todo bien wuapo\")"
   ]
  },
  {
   "cell_type": "markdown",
   "metadata": {},
   "source": [
    "Union\n",
    "La velocidad del asteroide varía en función de lo cerca que esté del sol, y cualquier velocidad superior a 25 kilómetros por segundo (km/s) merece una advertencia.\n",
    "Si un asteroide entra en la atmósfera de la Tierra a una velocidad mayor o igual a 20 km/s, a veces produce un rayo de luz que se puede ver desde la Tierra.\n"
   ]
  },
  {
   "cell_type": "code",
   "execution_count": 10,
   "metadata": {},
   "outputs": [
    {
     "name": "stdout",
     "output_type": "stream",
     "text": [
      "Cuidado se acerca un asteroide rapidamente\n"
     ]
    }
   ],
   "source": [
    "a = 35\n",
    "b = 30\n",
    "if a > 25 and b>= 25:\n",
    "    print(\"Cuidado se acerca un asteroide rapidamente\")\n",
    "elif a >= 20:\n",
    "    print(\"Hay una luz en la tierra\")\n",
    "elif b < 25:\n",
    "    print(\"Todo bien wuapo\")\n",
    "else:\n",
    "    print(\"Todo bien wuapo\")"
   ]
  }
 ],
 "metadata": {
  "interpreter": {
   "hash": "c026e9a3f0ac8bebe71c0f85bc0f49ea2b89705ca9128adc1c4339a74b1af46b"
  },
  "kernelspec": {
   "display_name": "Python 3.9.10 64-bit (windows store)",
   "language": "python",
   "name": "python3"
  },
  "language_info": {
   "codemirror_mode": {
    "name": "ipython",
    "version": 3
   },
   "file_extension": ".py",
   "mimetype": "text/x-python",
   "name": "python",
   "nbconvert_exporter": "python",
   "pygments_lexer": "ipython3",
   "version": "3.9.10"
  },
  "orig_nbformat": 4
 },
 "nbformat": 4,
 "nbformat_minor": 2
}
